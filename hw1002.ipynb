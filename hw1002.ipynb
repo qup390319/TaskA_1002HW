{
 "cells": [
  {
   "cell_type": "code",
   "execution_count": 17,
   "metadata": {},
   "outputs": [],
   "source": [
    "import tkinter as tk\n",
    "# 創建主窗口\n",
    "root = tk.Tk()\n",
    "root.title('銀行客戶管理系統')        # 設定標題\n",
    "root.iconbitmap('bank.ico')  # 設定 icon ( 格式限定 .ico )\n",
    "root.configure(background='#e7ecef')   # 設定背景色黑色\n",
    "\n",
    "\n",
    "# 視窗置中顯示\n",
    "window_width = root.winfo_screenwidth()    # 取得螢幕寬度\n",
    "window_height = root.winfo_screenheight()  # 取得螢幕高度\n",
    "width = 600\n",
    "height = 400\n",
    "left = int((window_width - width)/2)       # 計算左上 x 座標\n",
    "top = int((window_height - height)/2)      # 計算左上 y 座標\n",
    "root.geometry(f'{width}x{height}+{left}+{top}')\n",
    "\n",
    "root.resizable(False, False)   # 設定 x 方向和 y 方向都不能縮放\n",
    "\n",
    "# 多視窗\n",
    "# 函數A，顯示子視窗A\n",
    "def show_window_a():\n",
    "    sub_window_a = tk.Toplevel(root)\n",
    "    sub_window_a.title(\"子視窗A\")\n",
    "    label_a = tk.Label(sub_window_a, text=\"這是子視窗A\")\n",
    "    label_a.pack()\n",
    "# 函數B，顯示子視窗B\n",
    "def show_window_b():\n",
    "    sub_window_b = tk.Toplevel(root)\n",
    "    sub_window_b.title(\"子視窗B\")\n",
    "    label_b = tk.Label(sub_window_b, text=\"這是子視窗B\")\n",
    "    label_b.pack()\n",
    "# 函數C，顯示子視窗C\n",
    "def show_window_c():\n",
    "    sub_window_c = tk.Toplevel(root)\n",
    "    sub_window_c.title(\"子視窗C\")\n",
    "    label_c = tk.Label(sub_window_c, text=\"這是子視窗C\")\n",
    "    label_c.pack()\n",
    "\n",
    "# 創建主選單按鈕\n",
    "button_a = tk.Button(root, text=\"按鈕A\", command=show_window_a)\n",
    "button_b = tk.Button(root, text=\"按鈕B\", command=show_window_b)\n",
    "button_c = tk.Button(root, text=\"按鈕C\", command=show_window_c)\n",
    "button_a.pack()\n",
    "button_b.pack()\n",
    "button_c.pack()\n",
    "\n",
    "root.mainloop()"
   ]
  },
  {
   "cell_type": "code",
   "execution_count": null,
   "metadata": {},
   "outputs": [],
   "source": []
  }
 ],
 "metadata": {
  "kernelspec": {
   "display_name": "base",
   "language": "python",
   "name": "python3"
  },
  "language_info": {
   "codemirror_mode": {
    "name": "ipython",
    "version": 3
   },
   "file_extension": ".py",
   "mimetype": "text/x-python",
   "name": "python",
   "nbconvert_exporter": "python",
   "pygments_lexer": "ipython3",
   "version": "3.11.3"
  },
  "orig_nbformat": 4
 },
 "nbformat": 4,
 "nbformat_minor": 2
}
